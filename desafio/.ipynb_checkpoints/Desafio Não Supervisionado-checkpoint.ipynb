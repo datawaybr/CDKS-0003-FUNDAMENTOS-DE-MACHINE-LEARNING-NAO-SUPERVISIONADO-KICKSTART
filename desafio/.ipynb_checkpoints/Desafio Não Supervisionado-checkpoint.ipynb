{
 "cells": [
  {
   "cell_type": "markdown",
   "id": "17c919e9-935a-4dde-b4e3-f2a38caf3c1b",
   "metadata": {},
   "source": [
    "## Desafio Aprendizagem Não Supervisionada"
   ]
  },
  {
   "cell_type": "markdown",
   "id": "5eaa196e-a8eb-4cee-bd87-b663a97772b9",
   "metadata": {},
   "source": [
    "### Desafio\n",
    "- Link: https://github.com/datawaybr/CDKS-0003-FUNDAMENTOS-DE-MACHINE-LEARNING-NAO-SUPERVISIONADO-KICKSTART (referência: https://www.kaggle.com/datasets/youssefaboelwafa/clustering-penguins-species)\n",
    "  \n",
    "- Descrição: Conjunto de dados que descrevem características de uma amostra de pinguins de diversas espécies. O conjunto de dados é composto por 5 colunas:\n",
    "  * culmen_length_mm: comprimento do culmen (mm)\n",
    "  * culmen_depth_mm: profundidade do culmen (mm)\n",
    "  * flipper_length_mm: comprimento da nadadeira (mm)\n",
    "  * body_mass_g: massa corporal (g)\n",
    "  * sex: sexo do pinguim\n",
    "    \n",
    "\n",
    "\n",
    "- Problema de Negócio: Precisamos identificar grupos de pinguins semelhantes a fim de identificar mais rapidamente espécies distintas.\n",
    "  \n",
    "- Desafio: Monte um modelo de aprendizado não supervisionado para lidar com esse desafio\n",
    "\n",
    "- Sugestão extra: Publique esse desafio no seu Git Hub e vincule ao seu Linkedin."
   ]
  },
  {
   "cell_type": "code",
   "execution_count": null,
   "id": "4e82e487-cc23-4720-b17c-1f5ff1fd54ba",
   "metadata": {},
   "outputs": [],
   "source": []
  },
  {
   "cell_type": "code",
   "execution_count": null,
   "id": "dc0aed9f-3413-4180-953f-6b2e2fb5f481",
   "metadata": {},
   "outputs": [],
   "source": []
  },
  {
   "cell_type": "code",
   "execution_count": null,
   "id": "fe6f64cc-82f4-4033-a65b-e6d07c7d2428",
   "metadata": {},
   "outputs": [],
   "source": []
  }
 ],
 "metadata": {
  "kernelspec": {
   "display_name": "Python 3 (ipykernel)",
   "language": "python",
   "name": "python3"
  },
  "language_info": {
   "codemirror_mode": {
    "name": "ipython",
    "version": 3
   },
   "file_extension": ".py",
   "mimetype": "text/x-python",
   "name": "python",
   "nbconvert_exporter": "python",
   "pygments_lexer": "ipython3",
   "version": "3.10.9"
  }
 },
 "nbformat": 4,
 "nbformat_minor": 5
}
